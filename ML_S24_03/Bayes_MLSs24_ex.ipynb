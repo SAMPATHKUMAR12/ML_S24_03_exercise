{
  "nbformat": 4,
  "nbformat_minor": 0,
  "metadata": {
    "colab": {
      "provenance": []
    },
    "kernelspec": {
      "name": "python3",
      "display_name": "Python 3"
    },
    "language_info": {
      "name": "python"
    }
  },
  "cells": [
    {
      "cell_type": "markdown",
      "source": [
        "##Introduction:\n",
        " In this exercise, you're not on the field kicking the ball, but rather analyzing the game's statistics to uncover hidden insights. Your mission is to estimate the proportion of goals scored by a team in a series of matches using Bayesian inference. Imagine you're a football analyst trying to understand how effective a team is at scoring goals. To do this, you'll use a unique approach—analyzing a sequence of matches and recording whether the team scores a goal or not.\n",
        "\n",
        "##Objective:\n",
        "Your goal is to develop a Bayesian updating function to estimate the proportion of goals scored by a football team based on the sequence of matches played. Additionally, you'll create a visualization to track how the Bayesian model refines its estimate as more matches are analyzed.\n",
        "\n"
      ],
      "metadata": {
        "id": "n522SK5vdOl_"
      }
    },
    {
      "cell_type": "markdown",
      "source": [
        "##Step 1: Initial Belief (5 points)\n",
        "Begin by setting up your initial belief about the proportion of goals scored by the team. Think of this as your starting assumption before any matches are analyzed. We'll represent this belief as a uniform distribution ranging from 0 to 1."
      ],
      "metadata": {
        "id": "0nb4n6smdXNV"
      }
    },
    {
      "cell_type": "code",
      "source": [
        "# Step 1: Initialize the prior belief\n",
        "\n",
        "import numpy as np\n",
        "\n",
        "# Create an array of 1000 evenly spaced values between 0 and 1\n",
        "\n",
        "goal_proportions = #Solution\n",
        "\n",
        "# Prior belief: Initially, all proportions are equally likely\n",
        "\n",
        "prior_belief = #Solution\n"
      ],
      "metadata": {
        "id": "vLIAOxzcdWDg"
      },
      "execution_count": 1,
      "outputs": []
    },
    {
      "cell_type": "markdown",
      "source": [
        "##Step 2: Likelihood Function (5 points)\n",
        "Define a function to calculate the likelihood of observing a particular outcome (goal or no goal) given a certain proportion of goals scored by the team. This function will help update your beliefs based on new match data."
      ],
      "metadata": {
        "id": "oNTBa6GzdvIp"
      }
    },
    {
      "cell_type": "code",
      "execution_count": 2,
      "metadata": {
        "id": "jzyBI7rLdBit"
      },
      "outputs": [],
      "source": [
        "# Step 2: Create the likelihood function\n",
        "\n",
        "def likelihood(goal_proportion, outcome):\n",
        "#Solution\n"
      ]
    },
    {
      "cell_type": "markdown",
      "source": [
        "##Step 3: Bayesian Update(10 points)\n",
        "Create a function called bayesian_update to perform the Bayesian update. This function will update your prior beliefs using the likelihood of the observed outcomes and normalize the resulting distribution."
      ],
      "metadata": {
        "id": "Niy9QYH5d2B7"
      }
    },
    {
      "cell_type": "code",
      "source": [
        "# Step 3: Create the bayesian_update function\n",
        "\n",
        "def bayesian_update(prior_belief, goal_proportions, outcome):\n",
        "#Solution\n"
      ],
      "metadata": {
        "id": "zLJo0oTCdyg6"
      },
      "execution_count": 3,
      "outputs": []
    },
    {
      "cell_type": "markdown",
      "source": [
        "##Step 4: Analyze Match Data (10 points)\n",
        "Analyze a series of football matches to gather data. Assume a known true proportion of goals scored by the team (let's say 0.6) and generate 10 match outcomes."
      ],
      "metadata": {
        "id": "gKiARcV4eI2d"
      }
    },
    {
      "cell_type": "code",
      "source": [
        "# Step 4: Analyze football matches\n",
        "\n",
        "true_goal_proportion = 0.6\n",
        "match_outcomes = #Solution\n",
        "\n",
        "print(\"Match Outcomes:\", match_outcomes)\n"
      ],
      "metadata": {
        "id": "56VzQ7_7eMEV"
      },
      "execution_count": null,
      "outputs": []
    },
    {
      "cell_type": "markdown",
      "source": [
        "##Step 5: Update and Visualize (15 points)\n",
        "Iteratively update your prior belief using the Bayesian update function after each match. Then, visualize how the Bayesian model refines its estimate as more match data is collected."
      ],
      "metadata": {
        "id": "Qgb2CULeeQjA"
      }
    },
    {
      "cell_type": "code",
      "source": [
        "# Step 5: Update prior belief iteratively and store posterior distributions\n",
        "\n",
        "posteriors = []\n",
        "\n",
        "for i in range(1, len(match_outcomes) + 1):\n",
        "    prior_belief = #Solution\n",
        "    posteriors.append(prior_belief)\n",
        "\n",
        "# Next Step: Visualize the analysis\n",
        "\n",
        "import matplotlib.pyplot as plt\n",
        "\n",
        "plt.figure(figsize=(10, 6))\n",
        "plt.plot(goal_proportions, prior_belief, label='Initial Belief', linestyle='--')\n",
        "\n",
        "for i, posterior in enumerate(posteriors):\n",
        "    plt.plot(goal_proportions, posterior, label=f'Posterior after {i+1} match', alpha=0.7)\n",
        "\n",
        "plt.xlabel('Proportion of Goals Scored')\n",
        "plt.ylabel('Probability Density')\n",
        "plt.title('Bayesian Analysis: Estimating Proportion of Goals Scored by a Football Team')\n",
        "plt.legend()\n",
        "plt.grid(True)\n",
        "plt.show()\n"
      ],
      "metadata": {
        "id": "NBm0bBcOeUIP"
      },
      "execution_count": null,
      "outputs": []
    }
  ]
}